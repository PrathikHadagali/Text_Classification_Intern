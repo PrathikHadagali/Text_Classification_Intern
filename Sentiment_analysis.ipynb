{
  "nbformat": 4,
  "nbformat_minor": 0,
  "metadata": {
    "colab": {
      "provenance": []
    },
    "kernelspec": {
      "name": "python3",
      "display_name": "Python 3"
    },
    "language_info": {
      "name": "python"
    }
  },
  "cells": [
    {
      "cell_type": "code",
      "execution_count": 13,
      "metadata": {
        "id": "2N0zF5MuXBxK"
      },
      "outputs": [],
      "source": [
        "import pandas as pd\n",
        "import nltk\n",
        "from nltk.sentiment.vader import SentimentIntensityAnalyzer"
      ]
    },
    {
      "cell_type": "code",
      "source": [
        "nltk.download('vader_lexicon')\n",
        "df = pd.read_csv('Book1.csv')\n",
        "\n"
      ],
      "metadata": {
        "colab": {
          "base_uri": "https://localhost:8080/"
        },
        "id": "jxjlkR7Qam71",
        "outputId": "26a3efa9-4a8f-41c8-8914-f53ed32e3bab"
      },
      "execution_count": 20,
      "outputs": [
        {
          "output_type": "stream",
          "name": "stderr",
          "text": [
            "[nltk_data] Downloading package vader_lexicon to /root/nltk_data...\n",
            "[nltk_data]   Package vader_lexicon is already up-to-date!\n"
          ]
        }
      ]
    },
    {
      "cell_type": "code",
      "source": [
        "sia = SentimentIntensityAnalyzer()"
      ],
      "metadata": {
        "id": "zmKzXhGBa0Wy"
      },
      "execution_count": 21,
      "outputs": []
    },
    {
      "cell_type": "code",
      "source": [
        "def get_sentiment(text):\n",
        "  sentiment = sia.polarity_scores(text)\n",
        "  if sentiment['compound'] >= 0.05:\n",
        "    return 'Positive'\n",
        "  elif sentiment['compound'] <= -0.05:\n",
        "    return 'Negative'\n",
        "  else:\n",
        "    return 'Neutral'"
      ],
      "metadata": {
        "id": "OkyRUZxma9N_"
      },
      "execution_count": 22,
      "outputs": []
    },
    {
      "cell_type": "code",
      "source": [
        "df['Sentiment'] = df['Description'].apply(get_sentiment)\n",
        "print(df[['Description','Sentiment']])"
      ],
      "metadata": {
        "colab": {
          "base_uri": "https://localhost:8080/"
        },
        "id": "GmFiQ7vqbdjh",
        "outputId": "201bb184-e439-4377-a340-0acf50ac57c3"
      },
      "execution_count": 23,
      "outputs": [
        {
          "output_type": "stream",
          "name": "stdout",
          "text": [
            "                                          Description Sentiment\n",
            "0   Hello, Please Kindly note our new address for ...  Positive\n",
            "1   Hi team,\\n I require clarification for the ear...  Positive\n",
            "2   Hello\\nThis is inform you that myself\\nMr.B.Ch...  Negative\n",
            "3   Sr. I am a permanent customer of tanishq.\\n   ...   Neutral\n",
            "4   I Rekhaben Pandya allow Jitendra Pandya to acc...  Positive\n",
            "5   Respected sir iam Dega Naveen Kumar\\nI was you...  Positive\n",
            "6   Sir,\\n\\nI refer to the attached GST Invoice DO...  Positive\n",
            "7   Hey Tanishq\\n\\nIt?s not my bday month, can you...  Positive\n",
            "8   Hi\\n\\nI need to know about the bill breakup . ...  Negative\n",
            "9   From\\nB SRIRAM\\nG 804\\nArvind Sporcia Apartmen...  Positive\n",
            "10  Hello Tanishq Care Team,\\n\\nI had sold four 24...  Positive\n",
            "11  Dear Sir,\\n\\nKindly resolve my query, that is ...  Positive\n",
            "12  Against adv booking no 3165 dt24 dec 22 the ch...  Positive\n",
            "13  Hi,\\nOn invitation, I visited the Caratlane st...  Positive\n",
            "14  Hi\\n\\nTanishq hosur branch  - Bypass road said...  Positive\n",
            "15  Hi,\\nIts Avinesh Shukla from Himachal Pradesh....  Positive\n",
            "16  TKT-0007786819\\nTKT-0007765697\\n\\nHi Team,\\n\\n...  Positive\n",
            "17  Hi,\\n\\nI had placed a PO order for a ring from...  Negative\n",
            "18  pfa\\n\\n---------- Forwarded message ---------\\...  Positive\n",
            "19  Dear Team,\\n\\nWe are Unable to Correct Encircl...  Positive\n",
            "20  Dear Team,\\n\\nAs discussed with you regarding ...  Negative\n"
          ]
        }
      ]
    },
    {
      "cell_type": "code",
      "source": [],
      "metadata": {
        "id": "K18g9qRcb2XY"
      },
      "execution_count": null,
      "outputs": []
    }
  ]
}